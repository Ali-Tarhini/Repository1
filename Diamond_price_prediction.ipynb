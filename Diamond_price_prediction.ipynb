{
  "nbformat": 4,
  "nbformat_minor": 0,
  "metadata": {
    "colab": {
      "name": "Diamond_price_prediction.ipynb",
      "provenance": [],
      "collapsed_sections": [],
      "authorship_tag": "ABX9TyOAlJw+GBPWbnbes7vJMrLb",
      "include_colab_link": true
    },
    "kernelspec": {
      "name": "python3",
      "display_name": "Python 3"
    }
  },
  "cells": [
    {
      "cell_type": "markdown",
      "metadata": {
        "id": "view-in-github",
        "colab_type": "text"
      },
      "source": [
        "<a href=\"https://colab.research.google.com/github/Ali-Tarhini/Repository1/blob/master/Diamond_price_prediction.ipynb\" target=\"_parent\"><img src=\"https://colab.research.google.com/assets/colab-badge.svg\" alt=\"Open In Colab\"/></a>"
      ]
    },
    {
      "cell_type": "code",
      "metadata": {
        "id": "4gwaYVhQHs2n",
        "colab_type": "code",
        "colab": {
          "base_uri": "https://localhost:8080/",
          "height": 990
        },
        "outputId": "c54dcd74-9bcd-4f6b-ce79-9c588f14595b"
      },
      "source": [
        "# Database description:\n",
        "# A data frame with 53940 rows and 10 variables:\n",
        "# price\n",
        "# price in US dollars (\\$326--\\$18,823)\n",
        "# carat\n",
        "# weight of the diamond (0.2--5.01)\n",
        "# cut\n",
        "# quality of the cut (Fair, Good, Very Good, Premium, Ideal)\n",
        "# color\n",
        "# diamond colour, from J (worst) to D (best)\n",
        "# clarity\n",
        "# a measurement of how clear the diamond is (I1 (worst), SI2, SI1, VS2, VS1, VVS2, VVS1, IF (best))\n",
        "# x\n",
        "# length in mm (0--10.74)\n",
        "# y\n",
        "# width in mm (0--58.9)\n",
        "# z\n",
        "# depth in mm (0--31.8)\n",
        "# depth\n",
        "# total depth percentage = z / mean(x, y) = 2 * z / (x + y) (43--79)\n",
        "# table\n",
        "# width of top of diamond relative to widest point (43--95)\n",
        "\n",
        "import pickle\n",
        "import numpy as np\n",
        "import pandas as pd\n",
        "import matplotlib.pyplot as plt \n",
        "\n",
        "from sklearn.utils import shuffle\n",
        "\n",
        "# Read the database and take a look at it\n",
        "df = pd.read_csv(\"diamonds.csv\")\n",
        "print(df.head()) \n",
        "print(df.describe())\n",
        "\n",
        "# Visualize the price as a function of carats\n",
        "plt.scatter(df[\"carat\"].values, df[\"price\"].values, marker='.')\n",
        "plt.xlabel(\"carats\")\n",
        "plt.ylabel(\"price\")\n",
        "plt.show()\n",
        "\n",
        "# Define dictionaries to transform the categorical attributes to numerical ones\n",
        "cut_class_dict = {\"Fair\": 1, \"Good\": 2, \"Very Good\": 3, \"Premium\": 4, \"Ideal\": 5}\n",
        "clarity_dict = {\"I3\": 1, \"I2\": 2, \"I1\": 3, \"SI2\": 4, \"SI1\": 5, \"VS2\": 6, \"VS1\": 7, \"VVS2\": 8, \"VVS1\": 9, \"IF\": 10, \"FL\": 11}\n",
        "color_dict = {\"J\": 1,\"I\": 2,\"H\": 3,\"G\": 4,\"F\": 5,\"E\": 6,\"D\": 7}\n",
        "\n",
        "# Create new columns for the transformed attributes\n",
        "for row in df:\n",
        "    df['cut_index'] = df['cut'].map(cut_class_dict)\n",
        "    df['clarity_index'] = df['clarity'].map(clarity_dict)\n",
        "    df['color_index'] = df['color'].map(color_dict)\n",
        "\n",
        "\n",
        "# Drop unnecessary columns then shuffle the rows\n",
        "df = df.drop(['Unnamed: 0', 'cut', 'color', 'clarity'], axis=1).copy()\n",
        "df = shuffle(df)\n",
        "\n",
        "# Show the correlation between the numerical  columns\n",
        "fig = plt.figure()\n",
        "ax = fig.add_subplot(111)\n",
        "corr_mat = df.drop(['cut_index', 'clarity_index','color_index'], axis=1).corr()\n",
        "cax = ax.matshow(corr_mat, cmap=plt.cm.RdYlGn)\n",
        "fig.colorbar(cax)\n",
        "# Adjust the x and y labels\n",
        "labels = ['', 'Carat', 'depth', 'table', 'price', 'x', 'y', 'z']\n",
        "ax.set_xticklabels(labels)\n",
        "ax.set_yticklabels(labels)\n",
        "plt.savefig('CORRELATION PLOT.png')\n",
        "\n",
        "df.drop(['depth'], inplace=True, axis=1)\n",
        "\n",
        "# Transform the training data to numbers between 0 and 1\n",
        "columns = df.drop('price', axis=1).columns\n",
        "for column in columns:\n",
        "    max_value = df[column].max()\n",
        "    df[column] = df[column] / max_value\n",
        "print(df.head())\n",
        "\n",
        "#seperate between testing features and labels\n",
        "X = df.drop('price', axis=1).values\n",
        "y = df['price'].values\n",
        "\n",
        "# Save the obtained variables for future reference\n",
        "pickle.dump(X, open(\"diamond_features.pickle\", 'wb'))\n",
        "pickle.dump(y, open(\"diamond_prices.pickle\", 'wb'))\n"
      ],
      "execution_count": null,
      "outputs": [
        {
          "output_type": "stream",
          "text": [
            "   Unnamed: 0  carat      cut color clarity  ...  table  price     x     y     z\n",
            "0           1   0.23    Ideal     E     SI2  ...   55.0    326  3.95  3.98  2.43\n",
            "1           2   0.21  Premium     E     SI1  ...   61.0    326  3.89  3.84  2.31\n",
            "2           3   0.23     Good     E     VS1  ...   65.0    327  4.05  4.07  2.31\n",
            "3           4   0.29  Premium     I     VS2  ...   58.0    334  4.20  4.23  2.63\n",
            "4           5   0.31     Good     J     SI2  ...   58.0    335  4.34  4.35  2.75\n",
            "\n",
            "[5 rows x 11 columns]\n",
            "         Unnamed: 0         carat  ...             y             z\n",
            "count  53940.000000  53940.000000  ...  53940.000000  53940.000000\n",
            "mean   26970.500000      0.797940  ...      5.734526      3.538734\n",
            "std    15571.281097      0.474011  ...      1.142135      0.705699\n",
            "min        1.000000      0.200000  ...      0.000000      0.000000\n",
            "25%    13485.750000      0.400000  ...      4.720000      2.910000\n",
            "50%    26970.500000      0.700000  ...      5.710000      3.530000\n",
            "75%    40455.250000      1.040000  ...      6.540000      4.040000\n",
            "max    53940.000000      5.010000  ...     58.900000     31.800000\n",
            "\n",
            "[8 rows x 8 columns]\n"
          ],
          "name": "stdout"
        },
        {
          "output_type": "display_data",
          "data": {
            "image/png": "[encoded data removed]",
            "text/plain": [
              "<Figure size 432x288 with 1 Axes>"
            ]
          },
          "metadata": {
            "tags": [],
            "needs_background": "light"
          }
        },
        {
          "output_type": "stream",
          "text": [
            "          carat     table  price  ...  cut_index  clarity_index  color_index\n",
            "52638  0.047904  0.610526    552  ...        0.6            0.8     0.714286\n",
            "35855  0.063872  0.600000    917  ...        1.0            0.9     1.000000\n",
            "29483  0.063872  0.578947    702  ...        0.6            0.6     0.857143\n",
            "32579  0.071856  0.589474    801  ...        1.0            0.5     1.000000\n",
            "2496   0.153693  0.568421   3197  ...        0.6            0.7     0.571429\n",
            "\n",
            "[5 rows x 9 columns]\n"
          ],
          "name": "stdout"
        },
        {
          "output_type": "display_data",
          "data": {
            "image/png": "[encoded data removed]",
            "text/plain": [
              "<Figure size 432x288 with 2 Axes>"
            ]
          },
          "metadata": {
            "tags": [],
            "needs_background": "light"
          }
        }
      ]
    },
    {
      "cell_type": "code",
      "metadata": {
        "id": "CR4cKFZPRIMM",
        "colab_type": "code",
        "colab": {
          "base_uri": "https://localhost:8080/",
          "height": 1000
        },
        "outputId": "75458aa7-22bd-43ca-c94a-fc429e023f32"
      },
      "source": [
        "#building the model\n",
        "import pickle\n",
        "import numpy as np\n",
        "import matplotlib.pyplot as plt\n",
        "import tensorflow as tf\n",
        "from tensorflow.keras.layers import Dense\n",
        "from tensorflow.keras.layers import Dropout\n",
        "from tensorflow.keras.models import Sequential\n",
        "\n",
        "# Define the model, 3 dense hidden layers and an output layer\n",
        "def buildModel():\n",
        "  model = Sequential()\n",
        "  model.add(Dense(128, activation='relu', input_shape=(8,)))\n",
        "  model.add(Dense(64, activation='relu'))\n",
        "  model.add(Dense(32, activation='relu'))\n",
        "  model.add(Dense(1))\n",
        "                     \n",
        "  optimizer = tf.keras.optimizers.Adam(0.001)\n",
        "\n",
        "  model.compile(loss='mse',\n",
        "                optimizer=optimizer,\n",
        "                metrics='mae')\n",
        "  return model\n",
        "\n",
        "# Get the training data and build the model\n",
        "X = np.array(pickle.load(open(\"diamond_features.pickle\", \"rb\")))\n",
        "y = np.array(pickle.load(open(\"diamond_prices.pickle\", \"rb\")))\n",
        "model = buildModel()\n",
        "\n",
        "print(model.summary()) # View some details about the model\n",
        "\n",
        "# Train the model\n",
        "train_history = model.fit(X, y, epochs=50, validation_split = 0.12)\n",
        "\n"
      ],
      "execution_count": 102,
      "outputs": [
        {
          "output_type": "stream",
          "text": [
            "Model: \"sequential_88\"\n",
            "_________________________________________________________________\n",
            "Layer (type)                 Output Shape              Param #   \n",
            "=================================================================\n",
            "dense_343 (Dense)            (None, 128)               1152      \n",
            "_________________________________________________________________\n",
            "dense_344 (Dense)            (None, 64)                8256      \n",
            "_________________________________________________________________\n",
            "dense_345 (Dense)            (None, 32)                2080      \n",
            "_________________________________________________________________\n",
            "dense_346 (Dense)            (None, 1)                 33        \n",
            "=================================================================\n",
            "Total params: 11,521\n",
            "Trainable params: 11,521\n",
            "Non-trainable params: 0\n",
            "_________________________________________________________________\n",
            "None\n",
            "Epoch 1/50\n",
            "1484/1484 [==============================] - 2s 2ms/step - loss: 12311939.0000 - mae: 2455.0068 - val_loss: 3699176.5000 - val_mae: 1211.0327\n",
            "Epoch 2/50\n",
            "1484/1484 [==============================] - 2s 2ms/step - loss: 1954854.0000 - mae: 816.5627 - val_loss: 1006247.1250 - val_mae: 579.4450\n",
            "Epoch 3/50\n",
            "1484/1484 [==============================] - 2s 1ms/step - loss: 932979.9375 - mae: 551.0336 - val_loss: 806317.4375 - val_mae: 508.4760\n",
            "Epoch 4/50\n",
            "1484/1484 [==============================] - 2s 2ms/step - loss: 806245.5625 - mae: 484.3677 - val_loss: 731850.1875 - val_mae: 467.2279\n",
            "Epoch 5/50\n",
            "1484/1484 [==============================] - 2s 2ms/step - loss: 755116.8125 - mae: 458.7960 - val_loss: 705340.0625 - val_mae: 453.8210\n",
            "Epoch 6/50\n",
            "1484/1484 [==============================] - 2s 2ms/step - loss: 724446.0625 - mae: 444.5276 - val_loss: 659904.6250 - val_mae: 434.0828\n",
            "Epoch 7/50\n",
            "1484/1484 [==============================] - 2s 2ms/step - loss: 694060.0000 - mae: 433.0940 - val_loss: 632362.1250 - val_mae: 420.3638\n",
            "Epoch 8/50\n",
            "1484/1484 [==============================] - 2s 2ms/step - loss: 662065.1250 - mae: 421.2711 - val_loss: 613880.6250 - val_mae: 429.6532\n",
            "Epoch 9/50\n",
            "1484/1484 [==============================] - 2s 2ms/step - loss: 634471.5625 - mae: 413.4710 - val_loss: 576560.8125 - val_mae: 406.0666\n",
            "Epoch 10/50\n",
            "1484/1484 [==============================] - 2s 2ms/step - loss: 605255.6875 - mae: 400.8398 - val_loss: 543033.5000 - val_mae: 386.1613\n",
            "Epoch 11/50\n",
            "1484/1484 [==============================] - 2s 2ms/step - loss: 577158.2500 - mae: 391.8276 - val_loss: 563124.5625 - val_mae: 416.5815\n",
            "Epoch 12/50\n",
            "1484/1484 [==============================] - 2s 2ms/step - loss: 555591.3125 - mae: 386.4771 - val_loss: 509252.7500 - val_mae: 378.5653\n",
            "Epoch 13/50\n",
            "1484/1484 [==============================] - 2s 2ms/step - loss: 539249.3750 - mae: 384.3350 - val_loss: 509397.2812 - val_mae: 381.6574\n",
            "Epoch 14/50\n",
            "1484/1484 [==============================] - 2s 2ms/step - loss: 521671.9062 - mae: 376.1694 - val_loss: 475053.6562 - val_mae: 364.2947\n",
            "Epoch 15/50\n",
            "1484/1484 [==============================] - 2s 2ms/step - loss: 509771.7500 - mae: 374.8699 - val_loss: 465667.5625 - val_mae: 364.3407\n",
            "Epoch 16/50\n",
            "1484/1484 [==============================] - 2s 2ms/step - loss: 496898.4062 - mae: 372.0738 - val_loss: 457074.8750 - val_mae: 355.7763\n",
            "Epoch 17/50\n",
            "1484/1484 [==============================] - 2s 2ms/step - loss: 484327.5000 - mae: 367.9306 - val_loss: 445250.8438 - val_mae: 356.3384\n",
            "Epoch 18/50\n",
            "1484/1484 [==============================] - 2s 2ms/step - loss: 474623.8750 - mae: 365.4553 - val_loss: 439247.7500 - val_mae: 352.1344\n",
            "Epoch 19/50\n",
            "1484/1484 [==============================] - 2s 2ms/step - loss: 466122.7188 - mae: 363.0197 - val_loss: 429472.4062 - val_mae: 343.8544\n",
            "Epoch 20/50\n",
            "1484/1484 [==============================] - 2s 2ms/step - loss: 455376.4375 - mae: 358.3089 - val_loss: 432848.0938 - val_mae: 355.2471\n",
            "Epoch 21/50\n",
            "1484/1484 [==============================] - 2s 2ms/step - loss: 448513.0000 - mae: 358.4370 - val_loss: 434972.1875 - val_mae: 364.9645\n",
            "Epoch 22/50\n",
            "1484/1484 [==============================] - 2s 2ms/step - loss: 440694.0625 - mae: 354.3646 - val_loss: 420372.3438 - val_mae: 352.1719\n",
            "Epoch 23/50\n",
            "1484/1484 [==============================] - 2s 1ms/step - loss: 434552.6250 - mae: 354.1117 - val_loss: 426501.1562 - val_mae: 347.4627\n",
            "Epoch 24/50\n",
            "1484/1484 [==============================] - 2s 1ms/step - loss: 426837.2812 - mae: 351.3254 - val_loss: 405834.5938 - val_mae: 334.7651\n",
            "Epoch 25/50\n",
            "1484/1484 [==============================] - 2s 2ms/step - loss: 421390.0625 - mae: 349.1820 - val_loss: 408262.1875 - val_mae: 346.3628\n",
            "Epoch 26/50\n",
            "1484/1484 [==============================] - 2s 1ms/step - loss: 415734.2812 - mae: 347.9378 - val_loss: 415785.5312 - val_mae: 360.5050\n",
            "Epoch 27/50\n",
            "1484/1484 [==============================] - 2s 2ms/step - loss: 413424.4688 - mae: 347.7634 - val_loss: 426429.0312 - val_mae: 345.0282\n",
            "Epoch 28/50\n",
            "1484/1484 [==============================] - 2s 1ms/step - loss: 412557.7812 - mae: 346.8366 - val_loss: 392913.3438 - val_mae: 331.9634\n",
            "Epoch 29/50\n",
            "1484/1484 [==============================] - 2s 1ms/step - loss: 408949.1562 - mae: 346.2702 - val_loss: 412001.3438 - val_mae: 340.1577\n",
            "Epoch 30/50\n",
            "1484/1484 [==============================] - 2s 1ms/step - loss: 402536.1250 - mae: 342.9569 - val_loss: 390567.2812 - val_mae: 328.5439\n",
            "Epoch 31/50\n",
            "1484/1484 [==============================] - 2s 2ms/step - loss: 402156.8750 - mae: 344.9558 - val_loss: 389428.0938 - val_mae: 327.1947\n",
            "Epoch 32/50\n",
            "1484/1484 [==============================] - 2s 2ms/step - loss: 400118.1875 - mae: 342.3632 - val_loss: 390174.5000 - val_mae: 325.3211\n",
            "Epoch 33/50\n",
            "1484/1484 [==============================] - 2s 2ms/step - loss: 395192.3438 - mae: 341.1623 - val_loss: 389159.9375 - val_mae: 334.6598\n",
            "Epoch 34/50\n",
            "1484/1484 [==============================] - 2s 2ms/step - loss: 395693.9062 - mae: 340.6148 - val_loss: 406021.8438 - val_mae: 347.3363\n",
            "Epoch 35/50\n",
            "1484/1484 [==============================] - 2s 1ms/step - loss: 389536.0000 - mae: 337.8083 - val_loss: 381827.6875 - val_mae: 327.3467\n",
            "Epoch 36/50\n",
            "1484/1484 [==============================] - 2s 2ms/step - loss: 391484.3438 - mae: 338.2495 - val_loss: 379368.4688 - val_mae: 331.5255\n",
            "Epoch 37/50\n",
            "1484/1484 [==============================] - 2s 2ms/step - loss: 389529.8438 - mae: 337.5096 - val_loss: 379585.5938 - val_mae: 329.9193\n",
            "Epoch 38/50\n",
            "1484/1484 [==============================] - 2s 1ms/step - loss: 387303.0938 - mae: 338.6226 - val_loss: 383931.5312 - val_mae: 339.6184\n",
            "Epoch 39/50\n",
            "1484/1484 [==============================] - 2s 2ms/step - loss: 384405.6875 - mae: 334.1963 - val_loss: 387362.1250 - val_mae: 339.8999\n",
            "Epoch 40/50\n",
            "1484/1484 [==============================] - 2s 2ms/step - loss: 386394.5625 - mae: 337.4576 - val_loss: 374550.0000 - val_mae: 326.5972\n",
            "Epoch 41/50\n",
            "1484/1484 [==============================] - 2s 2ms/step - loss: 383191.0000 - mae: 335.9211 - val_loss: 377160.3438 - val_mae: 325.8777\n",
            "Epoch 42/50\n",
            "1484/1484 [==============================] - 2s 2ms/step - loss: 381824.3125 - mae: 333.6104 - val_loss: 374595.2812 - val_mae: 320.5662\n",
            "Epoch 43/50\n",
            "1484/1484 [==============================] - 2s 2ms/step - loss: 381071.9375 - mae: 333.6308 - val_loss: 370399.7812 - val_mae: 318.6085\n",
            "Epoch 44/50\n",
            "1484/1484 [==============================] - 2s 2ms/step - loss: 384688.0312 - mae: 336.8653 - val_loss: 368996.1250 - val_mae: 319.4516\n",
            "Epoch 45/50\n",
            "1484/1484 [==============================] - 2s 2ms/step - loss: 378554.2500 - mae: 332.1413 - val_loss: 384751.7500 - val_mae: 346.4054\n",
            "Epoch 46/50\n",
            "1484/1484 [==============================] - 2s 2ms/step - loss: 378317.5000 - mae: 333.3275 - val_loss: 367726.6250 - val_mae: 316.5882\n",
            "Epoch 47/50\n",
            "1484/1484 [==============================] - 2s 2ms/step - loss: 379605.9375 - mae: 334.0083 - val_loss: 368033.7188 - val_mae: 322.6366\n",
            "Epoch 48/50\n",
            "1484/1484 [==============================] - 2s 2ms/step - loss: 376482.6562 - mae: 330.8387 - val_loss: 374514.2500 - val_mae: 319.7978\n",
            "Epoch 49/50\n",
            "1484/1484 [==============================] - 2s 2ms/step - loss: 376987.7188 - mae: 332.3560 - val_loss: 381146.9062 - val_mae: 332.1516\n",
            "Epoch 50/50\n",
            "1484/1484 [==============================] - 2s 1ms/step - loss: 376804.8125 - mae: 331.8124 - val_loss: 365610.4688 - val_mae: 320.8103\n"
          ],
          "name": "stdout"
        }
      ]
    },
    {
      "cell_type": "code",
      "metadata": {
        "id": "afVhx5EjmCg7",
        "colab_type": "code",
        "colab": {
          "base_uri": "https://localhost:8080/",
          "height": 290
        },
        "outputId": "1377ba43-bce7-4c29-de4c-2deee643df9f"
      },
      "source": [
        "# Plot the loss graph\n",
        "loss = train_history.history['loss']\n",
        "val_loss = train_history.history['val_loss']\n",
        "plt.plot(loss)\n",
        "plt.plot(val_loss)\n",
        "plt.xlabel(\"epochs\")\n",
        "plt.ylabel(\"loss\")\n",
        "plt.legend(['loss', 'val_loss'])\n",
        "plt.savefig('Results.png')\n",
        "\n",
        "model.save(\"model.h5\") # Save the model for future access"
      ],
      "execution_count": 104,
      "outputs": [
        {
          "output_type": "display_data",
          "data": {
            "image/png": "[encoded data removed]",
            "text/plain": [
              "<Figure size 432x288 with 1 Axes>"
            ]
          },
          "metadata": {
            "tags": [],
            "needs_background": "light"
          }
        }
      ]
    }
  ]
}